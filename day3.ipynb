{
  "nbformat": 4,
  "nbformat_minor": 0,
  "metadata": {
    "colab": {
      "provenance": [],
      "mount_file_id": "https://github.com/Nikita785/BLCMods/blob/master/day2_semifinal.ipynb",
      "authorship_tag": "ABX9TyMmHmmEPStk7fULb9PcmJ3q",
      "include_colab_link": true
    },
    "kernelspec": {
      "name": "python3",
      "display_name": "Python 3"
    },
    "language_info": {
      "name": "python"
    }
  },
  "cells": [
    {
      "cell_type": "markdown",
      "metadata": {
        "id": "view-in-github",
        "colab_type": "text"
      },
      "source": [
        "<a href=\"https://colab.research.google.com/github/Nikita785/BLCMods/blob/master/day3.ipynb\" target=\"_parent\"><img src=\"https://colab.research.google.com/assets/colab-badge.svg\" alt=\"Open In Colab\"/></a>"
      ]
    },
    {
      "cell_type": "code",
      "execution_count": 2,
      "metadata": {
        "id": "m8WonfW8MasJ"
      },
      "outputs": [],
      "source": [
        "import pandas as pd\n",
        "\n",
        "df_fd = pd.read_csv('/content/financial_data.csv')\n",
        "df_pr = pd.read_csv('/content/prolongations.csv')"
      ]
    },
    {
      "cell_type": "code",
      "source": [
        "#  Шаг первый: очистка данных\n",
        "#    - Счел нужным удалить Причины дубля из df_fd для удобства\n",
        "#    - Преобразовать месяцы в df_fd в числовой тип и заполнить NaN нулями для реализации вычислений\n",
        "\n",
        "df_fd = df_fd.drop('Причина дубля', axis=1)\n",
        "cols_to_convert = ['Ноябрь 2022',\n",
        "                   'Декабрь 2022', 'Январь 2023', 'Февраль 2023',\n",
        "                   'Март 2023', 'Апрель 2023', 'Май 2023',\n",
        "                   'Июнь 2023', 'Июль 2023', 'Август 2023',\n",
        "                   'Сентябрь 2023', 'Октябрь 2023', 'Ноябрь 2023',\n",
        "                   'Декабрь 2023', 'Январь 2024', 'Февраль 2024']\n",
        "\n",
        "for col in cols_to_convert:\n",
        "  df_fd[col] = df_fd[col].astype(str).str.replace('\\xa0', '').str.replace(',', '.')\n",
        "  df_fd[col] = pd.to_numeric(df_fd[col], errors='coerce').fillna(0)"
      ],
      "metadata": {
        "id": "0wpUURYtx8Va"
      },
      "execution_count": 3,
      "outputs": []
    },
    {
      "cell_type": "code",
      "source": [
        "# Шаг второй: объединение таблиц для произведения расчётов\n",
        "\n",
        "month_mapping = {\n",
        "    'Ноябрь 2022': 'november_2022',\n",
        "    'Декабрь 2022': 'december_2022',\n",
        "    'Январь 2023': 'january_2023',\n",
        "    'Февраль 2023': 'february_2023',\n",
        "    'Март 2023': 'march_2023',\n",
        "    'Апрель 2023': 'april_2023',\n",
        "    'Май 2023': 'may_2023',\n",
        "    'Июнь 2023': 'june_2023',\n",
        "    'Июль 2023': 'july_2023',\n",
        "    'Август 2023': 'august_2023',\n",
        "    'Сентябрь 2023': 'september_2023',\n",
        "    'Октябрь 2023': 'october_2023',\n",
        "    'Ноябрь 2023': 'november_2023',\n",
        "    'Декабрь 2023': 'december_2023',\n",
        "    'Январь 2024': 'january_2024',\n",
        "    'Февраль 2024': 'february_2024'\n",
        "}\n",
        "\n",
        "df_merge = pd.merge(df_fd, df_pr, on='id', how='left')\n",
        "df_merge = df_merge.rename(columns=month_mapping)\n"
      ],
      "metadata": {
        "id": "RhqQgIZwsmtF"
      },
      "execution_count": 8,
      "outputs": []
    },
    {
      "cell_type": "code",
      "source": [
        "\n"
      ],
      "metadata": {
        "id": "n8ZEzZYS17Vn"
      },
      "execution_count": 24,
      "outputs": []
    }
  ]
}